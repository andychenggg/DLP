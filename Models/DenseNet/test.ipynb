{
 "cells": [
  {
   "cell_type": "code",
   "execution_count": 1,
   "id": "initial_id",
   "metadata": {
    "collapsed": true,
    "ExecuteTime": {
     "end_time": "2024-06-07T10:02:08.288726100Z",
     "start_time": "2024-06-07T07:57:02.309756Z"
    }
   },
   "outputs": [
    {
     "name": "stderr",
     "output_type": "stream",
     "text": [
      "[I 2024-06-07 15:57:07,166] A new study created in memory with name: no-name-a1741316-d6e8-4825-aab4-ed68e865d6aa\n"
     ]
    },
    {
     "name": "stdout",
     "output_type": "stream",
     "text": [
      "----------------------TRIAL 0------------------------\n",
      "lr: 0.0003255793033662076\n",
      "momentum: 0.5437995721455204\n",
      "num_epochs: 5\n",
      "Epoch 0/4: Loss: 0.8748 Acc: 0.6487\n",
      "Epoch 1/4: Loss: 0.5831 Acc: 0.8383\n",
      "Epoch 2/4: Loss: 0.4531 Acc: 0.8600\n",
      "Epoch 3/4: Loss: 0.3796 Acc: 0.8743\n",
      "Epoch 4/4: Loss: 0.3374 Acc: 0.8817\n"
     ]
    },
    {
     "name": "stderr",
     "output_type": "stream",
     "text": [
      "[I 2024-06-07 16:01:11,260] Trial 0 finished with value: 0.8234942323260638 and parameters: {'lr': 0.0003255793033662076, 'momentum': 0.5437995721455204, 'num_epochs': 5}. Best is trial 0 with value: 0.8234942323260638.\n"
     ]
    },
    {
     "name": "stdout",
     "output_type": "stream",
     "text": [
      "f1_macro: 0.8234942323260638, f1_weighted: 0.820245688526127, accuracy: 82.10526315789474, average_test_loss: 0.38975669741630553\n",
      "Class: Lung_Opacity, F1 score: 0.7924528301886793\n",
      "Class: Normal, F1 score: 0.8183807439824945\n",
      "Class: Viral Pneumonia, F1 score: 0.8596491228070174\n",
      "----------------------TRIAL 1------------------------\n",
      "lr: 0.02519644359864421\n",
      "momentum: 0.5395589984852298\n",
      "num_epochs: 13\n",
      "Epoch 0/12: Loss: 0.4140 Acc: 0.8413\n",
      "Epoch 1/12: Loss: 0.2286 Acc: 0.9117\n",
      "Epoch 2/12: Loss: 0.1574 Acc: 0.9373\n",
      "Epoch 3/12: Loss: 0.1380 Acc: 0.9487\n",
      "Epoch 4/12: Loss: 0.0973 Acc: 0.9637\n",
      "Epoch 5/12: Loss: 0.0758 Acc: 0.9713\n",
      "Epoch 6/12: Loss: 0.0622 Acc: 0.9797\n",
      "Epoch 7/12: Loss: 0.0545 Acc: 0.9810\n",
      "Epoch 8/12: Loss: 0.0545 Acc: 0.9813\n",
      "Epoch 9/12: Loss: 0.0350 Acc: 0.9897\n",
      "Epoch 10/12: Loss: 0.0189 Acc: 0.9920\n",
      "Epoch 11/12: Loss: 0.0346 Acc: 0.9880\n",
      "Epoch 12/12: Loss: 0.0263 Acc: 0.9903\n"
     ]
    },
    {
     "name": "stderr",
     "output_type": "stream",
     "text": [
      "[I 2024-06-07 16:11:36,718] Trial 1 finished with value: 0.9365182761264491 and parameters: {'lr': 0.02519644359864421, 'momentum': 0.5395589984852298, 'num_epochs': 13}. Best is trial 1 with value: 0.9365182761264491.\n"
     ]
    },
    {
     "name": "stdout",
     "output_type": "stream",
     "text": [
      "f1_macro: 0.9365182761264491, f1_weighted: 0.9346190927937433, accuracy: 93.47368421052632, average_test_loss: 0.3047728800411278\n",
      "Class: Lung_Opacity, F1 score: 0.8968253968253967\n",
      "Class: Normal, F1 score: 0.9371196754563895\n",
      "Class: Viral Pneumonia, F1 score: 0.975609756097561\n",
      "----------------------TRIAL 2------------------------\n",
      "lr: 2.2338276714911742e-05\n",
      "momentum: 0.7372682642397105\n",
      "num_epochs: 8\n",
      "Epoch 0/7: Loss: 1.1952 Acc: 0.3363\n",
      "Epoch 1/7: Loss: 1.0547 Acc: 0.4250\n",
      "Epoch 2/7: Loss: 0.9678 Acc: 0.5737\n",
      "Epoch 3/7: Loss: 0.9063 Acc: 0.6760\n",
      "Epoch 4/7: Loss: 0.8487 Acc: 0.7340\n",
      "Epoch 5/7: Loss: 0.7996 Acc: 0.7787\n",
      "Epoch 6/7: Loss: 0.7596 Acc: 0.7973\n",
      "Epoch 7/7: Loss: 0.7198 Acc: 0.8030\n"
     ]
    },
    {
     "name": "stderr",
     "output_type": "stream",
     "text": [
      "[I 2024-06-07 16:18:16,421] Trial 2 finished with value: 0.775779621840779 and parameters: {'lr': 2.2338276714911742e-05, 'momentum': 0.7372682642397105, 'num_epochs': 8}. Best is trial 1 with value: 0.9365182761264491.\n"
     ]
    },
    {
     "name": "stdout",
     "output_type": "stream",
     "text": [
      "f1_macro: 0.775779621840779, f1_weighted: 0.7783777962582938, accuracy: 77.89473684210526, average_test_loss: 0.743583353360494\n",
      "Class: Lung_Opacity, F1 score: 0.736842105263158\n",
      "Class: Normal, F1 score: 0.7904967602591793\n",
      "Class: Viral Pneumonia, F1 score: 0.7999999999999999\n",
      "----------------------TRIAL 3------------------------\n",
      "lr: 0.0001378976977581623\n",
      "momentum: 0.8842685147474314\n",
      "num_epochs: 12\n",
      "Epoch 0/11: Loss: 0.8279 Acc: 0.6963\n",
      "Epoch 1/11: Loss: 0.4810 Acc: 0.8627\n",
      "Epoch 2/11: Loss: 0.3642 Acc: 0.8800\n",
      "Epoch 3/11: Loss: 0.3136 Acc: 0.8843\n",
      "Epoch 4/11: Loss: 0.2746 Acc: 0.9003\n",
      "Epoch 5/11: Loss: 0.2440 Acc: 0.9170\n",
      "Epoch 6/11: Loss: 0.2211 Acc: 0.9257\n",
      "Epoch 7/11: Loss: 0.2057 Acc: 0.9273\n",
      "Epoch 8/11: Loss: 0.1855 Acc: 0.9377\n",
      "Epoch 9/11: Loss: 0.1785 Acc: 0.9337\n",
      "Epoch 10/11: Loss: 0.1694 Acc: 0.9407\n",
      "Epoch 11/11: Loss: 0.1541 Acc: 0.9470\n"
     ]
    },
    {
     "name": "stderr",
     "output_type": "stream",
     "text": [
      "[I 2024-06-07 16:28:13,971] Trial 3 finished with value: 0.9117495842832183 and parameters: {'lr': 0.0001378976977581623, 'momentum': 0.8842685147474314, 'num_epochs': 12}. Best is trial 1 with value: 0.9365182761264491.\n"
     ]
    },
    {
     "name": "stdout",
     "output_type": "stream",
     "text": [
      "f1_macro: 0.9117495842832183, f1_weighted: 0.9093261495777631, accuracy: 90.94736842105263, average_test_loss: 0.2070146900912126\n",
      "Class: Lung_Opacity, F1 score: 0.8616600790513834\n",
      "Class: Normal, F1 score: 0.9124236252545824\n",
      "Class: Viral Pneumonia, F1 score: 0.9611650485436893\n",
      "----------------------TRIAL 4------------------------\n",
      "lr: 3.546631470037243e-05\n",
      "momentum: 0.5517586939823838\n",
      "num_epochs: 30\n",
      "Epoch 0/29: Loss: 1.1516 Acc: 0.3213\n",
      "Epoch 1/29: Loss: 1.0593 Acc: 0.4327\n",
      "Epoch 2/29: Loss: 0.9877 Acc: 0.5510\n",
      "Epoch 3/29: Loss: 0.9278 Acc: 0.6357\n",
      "Epoch 4/29: Loss: 0.8793 Acc: 0.7017\n",
      "Epoch 5/29: Loss: 0.8322 Acc: 0.7460\n",
      "Epoch 6/29: Loss: 0.7884 Acc: 0.7847\n",
      "Epoch 7/29: Loss: 0.7518 Acc: 0.8020\n",
      "Epoch 8/29: Loss: 0.7123 Acc: 0.8207\n",
      "Epoch 9/29: Loss: 0.6843 Acc: 0.8223\n",
      "Epoch 10/29: Loss: 0.6590 Acc: 0.8287\n",
      "Epoch 11/29: Loss: 0.6342 Acc: 0.8293\n",
      "Epoch 12/29: Loss: 0.6055 Acc: 0.8440\n",
      "Epoch 13/29: Loss: 0.5853 Acc: 0.8440\n",
      "Epoch 14/29: Loss: 0.5661 Acc: 0.8463\n",
      "Epoch 15/29: Loss: 0.5455 Acc: 0.8460\n",
      "Epoch 16/29: Loss: 0.5325 Acc: 0.8477\n",
      "Epoch 17/29: Loss: 0.5189 Acc: 0.8493\n",
      "Epoch 18/29: Loss: 0.4996 Acc: 0.8513\n",
      "Epoch 19/29: Loss: 0.4893 Acc: 0.8547\n",
      "Epoch 20/29: Loss: 0.4825 Acc: 0.8533\n",
      "Epoch 21/29: Loss: 0.4697 Acc: 0.8613\n",
      "Epoch 22/29: Loss: 0.4454 Acc: 0.8630\n",
      "Epoch 23/29: Loss: 0.4428 Acc: 0.8663\n",
      "Epoch 24/29: Loss: 0.4363 Acc: 0.8617\n",
      "Epoch 25/29: Loss: 0.4294 Acc: 0.8593\n",
      "Epoch 26/29: Loss: 0.4127 Acc: 0.8720\n",
      "Epoch 27/29: Loss: 0.4122 Acc: 0.8667\n",
      "Epoch 28/29: Loss: 0.4060 Acc: 0.8650\n",
      "Epoch 29/29: Loss: 0.4026 Acc: 0.8720\n"
     ]
    },
    {
     "name": "stderr",
     "output_type": "stream",
     "text": [
      "[I 2024-06-07 16:55:53,991] Trial 4 finished with value: 0.8113453602283247 and parameters: {'lr': 3.546631470037243e-05, 'momentum': 0.5517586939823838, 'num_epochs': 30}. Best is trial 1 with value: 0.9365182761264491.\n"
     ]
    },
    {
     "name": "stdout",
     "output_type": "stream",
     "text": [
      "f1_macro: 0.8113453602283247, f1_weighted: 0.8068587454732945, accuracy: 80.84210526315789, average_test_loss: 0.45430378516515096\n",
      "Class: Lung_Opacity, F1 score: 0.7734375000000001\n",
      "Class: Normal, F1 score: 0.8034557235421166\n",
      "Class: Viral Pneumonia, F1 score: 0.8571428571428572\n",
      "----------------------TRIAL 5------------------------\n",
      "lr: 0.002522195600217935\n",
      "momentum: 0.5209922048018879\n",
      "num_epochs: 22\n",
      "Epoch 0/21: Loss: 0.4794 Acc: 0.8383\n",
      "Epoch 1/21: Loss: 0.2337 Acc: 0.9163\n",
      "Epoch 2/21: Loss: 0.1906 Acc: 0.9263\n",
      "Epoch 3/21: Loss: 0.1482 Acc: 0.9470\n",
      "Epoch 4/21: Loss: 0.1260 Acc: 0.9573\n",
      "Epoch 5/21: Loss: 0.1030 Acc: 0.9647\n",
      "Epoch 6/21: Loss: 0.0812 Acc: 0.9720\n",
      "Epoch 7/21: Loss: 0.0694 Acc: 0.9797\n",
      "Epoch 8/21: Loss: 0.0554 Acc: 0.9837\n",
      "Epoch 9/21: Loss: 0.0503 Acc: 0.9863\n",
      "Epoch 10/21: Loss: 0.0309 Acc: 0.9923\n",
      "Epoch 11/21: Loss: 0.0339 Acc: 0.9910\n",
      "Epoch 12/21: Loss: 0.0230 Acc: 0.9957\n",
      "Epoch 13/21: Loss: 0.0186 Acc: 0.9980\n",
      "Epoch 14/21: Loss: 0.0125 Acc: 0.9990\n",
      "Epoch 15/21: Loss: 0.0137 Acc: 0.9980\n",
      "Epoch 16/21: Loss: 0.0102 Acc: 0.9990\n",
      "Epoch 17/21: Loss: 0.0149 Acc: 0.9967\n",
      "Epoch 18/21: Loss: 0.0077 Acc: 0.9997\n",
      "Epoch 19/21: Loss: 0.0108 Acc: 0.9967\n",
      "Epoch 20/21: Loss: 0.0076 Acc: 0.9990\n",
      "Epoch 21/21: Loss: 0.0052 Acc: 0.9997\n"
     ]
    },
    {
     "name": "stderr",
     "output_type": "stream",
     "text": [
      "[I 2024-06-07 17:14:39,784] Trial 5 finished with value: 0.936703698387113 and parameters: {'lr': 0.002522195600217935, 'momentum': 0.5209922048018879, 'num_epochs': 22}. Best is trial 5 with value: 0.936703698387113.\n"
     ]
    },
    {
     "name": "stdout",
     "output_type": "stream",
     "text": [
      "f1_macro: 0.936703698387113, f1_weighted: 0.9346980757184248, accuracy: 93.47368421052632, average_test_loss: 0.24933963664419329\n",
      "Class: Lung_Opacity, F1 score: 0.8976377952755905\n",
      "Class: Normal, F1 score: 0.9368635437881875\n",
      "Class: Viral Pneumonia, F1 score: 0.975609756097561\n",
      "----------------------TRIAL 6------------------------\n",
      "lr: 1.0455732021448802e-05\n",
      "momentum: 0.8503792207424121\n",
      "num_epochs: 8\n",
      "\n",
      "Epoch 0/7: Loss: 1.1637 Acc: 0.3073\n",
      "Epoch 1/7: Loss: 1.0809 Acc: 0.3843\n",
      "Epoch 2/7: Loss: 1.0172 Acc: 0.5007\n",
      "Epoch 3/7: Loss: 0.9632 Acc: 0.6050\n",
      "Epoch 4/7: Loss: 0.9128 Acc: 0.6787\n",
      "Epoch 5/7: Loss: 0.8673 Acc: 0.7247\n",
      "Epoch 6/7: Loss: 0.8341 Acc: 0.7520\n",
      "Epoch 7/7: Loss: 0.7915 Acc: 0.7810\n"
     ]
    },
    {
     "name": "stderr",
     "output_type": "stream",
     "text": [
      "[I 2024-06-07 17:21:32,059] Trial 6 finished with value: 0.7480599019001021 and parameters: {'lr': 1.0455732021448802e-05, 'momentum': 0.8503792207424121, 'num_epochs': 8}. Best is trial 5 with value: 0.936703698387113.\n"
     ]
    },
    {
     "name": "stdout",
     "output_type": "stream",
     "text": [
      "f1_macro: 0.7480599019001021, f1_weighted: 0.7477699798955973, accuracy: 74.94736842105263, average_test_loss: 0.8061145702997844\n",
      "Class: Lung_Opacity, F1 score: 0.6827309236947792\n",
      "Class: Normal, F1 score: 0.7580299785867237\n",
      "Class: Viral Pneumonia, F1 score: 0.8034188034188033\n",
      "----------------------TRIAL 7------------------------\n",
      "lr: 1.596850353144519e-05\n",
      "momentum: 0.6323803085136539\n",
      "num_epochs: 24\n",
      "Epoch 0/23: Loss: 1.1082 Acc: 0.3730\n",
      "Epoch 1/23: Loss: 1.0667 Acc: 0.4320\n",
      "Epoch 2/23: Loss: 1.0257 Acc: 0.4940\n",
      "Epoch 3/23: Loss: 0.9896 Acc: 0.5540\n",
      "Epoch 4/23: Loss: 0.9525 Acc: 0.6217\n",
      "Epoch 5/23: Loss: 0.9246 Acc: 0.6460\n",
      "Epoch 6/23: Loss: 0.8933 Acc: 0.6917\n",
      "Epoch 7/23: Loss: 0.8668 Acc: 0.7097\n",
      "Epoch 8/23: Loss: 0.8421 Acc: 0.7303\n",
      "Epoch 9/23: Loss: 0.8187 Acc: 0.7633\n",
      "Epoch 10/23: Loss: 0.7975 Acc: 0.7733\n",
      "Epoch 11/23: Loss: 0.7779 Acc: 0.7830\n",
      "Epoch 12/23: Loss: 0.7615 Acc: 0.7837\n",
      "Epoch 13/23: Loss: 0.7399 Acc: 0.7990\n",
      "Epoch 14/23: Loss: 0.7246 Acc: 0.8067\n",
      "Epoch 15/23: Loss: 0.7109 Acc: 0.8013\n",
      "Epoch 16/23: Loss: 0.6879 Acc: 0.8137\n",
      "Epoch 17/23: Loss: 0.6748 Acc: 0.8187\n",
      "Epoch 18/23: Loss: 0.6589 Acc: 0.8203\n",
      "Epoch 19/23: Loss: 0.6483 Acc: 0.8223\n",
      "Epoch 20/23: Loss: 0.6380 Acc: 0.8200\n",
      "Epoch 21/23: Loss: 0.6214 Acc: 0.8280\n",
      "Epoch 22/23: Loss: 0.6083 Acc: 0.8290\n",
      "Epoch 23/23: Loss: 0.6031 Acc: 0.8250\n"
     ]
    },
    {
     "name": "stderr",
     "output_type": "stream",
     "text": [
      "[I 2024-06-07 17:41:42,863] Trial 7 finished with value: 0.7730303372024778 and parameters: {'lr': 1.596850353144519e-05, 'momentum': 0.6323803085136539, 'num_epochs': 24}. Best is trial 5 with value: 0.936703698387113.\n"
     ]
    },
    {
     "name": "stdout",
     "output_type": "stream",
     "text": [
      "f1_macro: 0.7730303372024778, f1_weighted: 0.766033809230327, accuracy: 76.84210526315789, average_test_loss: 0.6594244559605916\n",
      "Class: Lung_Opacity, F1 score: 0.734848484848485\n",
      "Class: Normal, F1 score: 0.7572383073496659\n",
      "Class: Viral Pneumonia, F1 score: 0.8270042194092827\n",
      "----------------------TRIAL 8------------------------\n",
      "lr: 0.0004528160948855589\n",
      "momentum: 0.8743960578094243\n",
      "num_epochs: 13\n",
      "Epoch 0/12: Loss: 0.5848 Acc: 0.7907\n",
      "Epoch 1/12: Loss: 0.2796 Acc: 0.8983\n",
      "Epoch 2/12: Loss: 0.2147 Acc: 0.9203\n",
      "Epoch 3/12: Loss: 0.1781 Acc: 0.9353\n",
      "Epoch 4/12: Loss: 0.1562 Acc: 0.9443\n",
      "Epoch 5/12: Loss: 0.1371 Acc: 0.9550\n",
      "Epoch 6/12: Loss: 0.1090 Acc: 0.9633\n",
      "Epoch 7/12: Loss: 0.0981 Acc: 0.9713\n",
      "Epoch 8/12: Loss: 0.0783 Acc: 0.9777\n",
      "Epoch 9/12: Loss: 0.0676 Acc: 0.9810\n",
      "Epoch 10/12: Loss: 0.0518 Acc: 0.9887\n",
      "Epoch 11/12: Loss: 0.0483 Acc: 0.9880\n",
      "Epoch 12/12: Loss: 0.0379 Acc: 0.9910\n"
     ]
    },
    {
     "name": "stderr",
     "output_type": "stream",
     "text": [
      "[I 2024-06-07 17:52:44,867] Trial 8 finished with value: 0.923157009730429 and parameters: {'lr': 0.0004528160948855589, 'momentum': 0.8743960578094243, 'num_epochs': 13}. Best is trial 5 with value: 0.936703698387113.\n"
     ]
    },
    {
     "name": "stdout",
     "output_type": "stream",
     "text": [
      "f1_macro: 0.923157009730429, f1_weighted: 0.9218726240594872, accuracy: 92.21052631578948, average_test_loss: 0.22333399861430128\n",
      "Class: Lung_Opacity, F1 score: 0.888\n",
      "Class: Normal, F1 score: 0.9249492900608518\n",
      "Class: Viral Pneumonia, F1 score: 0.9565217391304348\n",
      "----------------------TRIAL 9------------------------\n",
      "lr: 0.06891379241881047\n",
      "momentum: 0.8636130181384594\n",
      "num_epochs: 11\n",
      "Epoch 0/10: Loss: 3.2403 Acc: 0.3930\n",
      "Epoch 1/10: Loss: 1.5594 Acc: 0.5217\n",
      "Epoch 2/10: Loss: 1.1251 Acc: 0.6433\n",
      "Epoch 3/10: Loss: 1.0211 Acc: 0.6600\n",
      "Epoch 4/10: Loss: 0.6806 Acc: 0.7450\n",
      "Epoch 5/10: Loss: 0.5658 Acc: 0.7857\n",
      "Epoch 6/10: Loss: 0.5096 Acc: 0.7953\n",
      "Epoch 7/10: Loss: 0.4592 Acc: 0.8127\n",
      "Epoch 8/10: Loss: 0.5022 Acc: 0.8010\n",
      "Epoch 9/10: Loss: 0.4426 Acc: 0.8227\n",
      "Epoch 10/10: Loss: 0.4211 Acc: 0.8247\n"
     ]
    },
    {
     "name": "stderr",
     "output_type": "stream",
     "text": [
      "[I 2024-06-07 18:02:08,267] Trial 9 finished with value: 0.8230403122691525 and parameters: {'lr': 0.06891379241881047, 'momentum': 0.8636130181384594, 'num_epochs': 11}. Best is trial 5 with value: 0.936703698387113.\n"
     ]
    },
    {
     "name": "stdout",
     "output_type": "stream",
     "text": [
      "f1_macro: 0.8230403122691525, f1_weighted: 0.8264674517573074, accuracy: 82.94736842105263, average_test_loss: 0.38539255162080127\n",
      "Class: Lung_Opacity, F1 score: 0.721030042918455\n",
      "Class: Normal, F1 score: 0.8508946322067595\n",
      "Class: Viral Pneumonia, F1 score: 0.8971962616822429\n",
      "Best trial: 0.936703698387113\n",
      "Best params: {'lr': 0.002522195600217935, 'momentum': 0.5209922048018879, 'num_epochs': 22}\n"
     ]
    }
   ],
   "source": [
    "%run DLP-DenseNet-PT.py"
   ]
  },
  {
   "cell_type": "code",
   "outputs": [],
   "source": [],
   "metadata": {
    "collapsed": false
   },
   "id": "57e1ab93418ee6a1"
  }
 ],
 "metadata": {
  "kernelspec": {
   "display_name": "Python 3",
   "language": "python",
   "name": "python3"
  },
  "language_info": {
   "codemirror_mode": {
    "name": "ipython",
    "version": 2
   },
   "file_extension": ".py",
   "mimetype": "text/x-python",
   "name": "python",
   "nbconvert_exporter": "python",
   "pygments_lexer": "ipython2",
   "version": "2.7.6"
  }
 },
 "nbformat": 4,
 "nbformat_minor": 5
}
